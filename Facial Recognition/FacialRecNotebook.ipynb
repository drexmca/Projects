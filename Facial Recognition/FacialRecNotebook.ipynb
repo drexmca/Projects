{
 "cells": [
  {
   "cell_type": "code",
   "execution_count": 3,
   "metadata": {
    "collapsed": false
   },
   "outputs": [],
   "source": [
    "%matplotlib inline \n",
    "#makes all plots show as inline plots"
   ]
  },
  {
   "cell_type": "markdown",
   "metadata": {
    "collapsed": false
   },
   "source": [
    "#Facial Recognition Using Eigenfaces"
   ]
  },
  {
   "cell_type": "markdown",
   "metadata": {},
   "source": [
    "In this notebook, we will create a simple facial recognition program. We will be using the **faces94** dataset. First we need our to import the necessary libraries."
   ]
  },
  {
   "cell_type": "code",
   "execution_count": 4,
   "metadata": {
    "collapsed": true
   },
   "outputs": [],
   "source": [
    "import numpy as np\n",
    "from scipy import linalg as la\n",
    "from os import walk\n",
    "from scipy.ndimage import imread\n",
    "from matplotlib import pyplot as plt\n",
    "import matplotlib.cm as cm\n",
    "import random"
   ]
  },
  {
   "cell_type": "markdown",
   "metadata": {
    "collapsed": false
   },
   "source": [
    "###Load Faces Dataset\n",
    "We begin by creating a function to load all the faces. The code we will be using traverses through the given directory and loads all JPEG images. The images are flattened and then stored vertically in a matrix. For convenience, we will make the default path be the **./faces94** directory."
   ]
  },
  {
   "cell_type": "code",
   "execution_count": 5,
   "metadata": {
    "collapsed": false
   },
   "outputs": [],
   "source": [
    "def getFaces(path='./faces94'):\n",
    "    \"\"\"Traverse the directory specified by 'path' and return an array containing\n",
    "    one column vector per subdirectory.\n",
    "    \"\"\"\n",
    "    # Traverse the directory and get one image per subdirectory\n",
    "    faces = []\n",
    "    for (dirpath, dirnames, filenames) in walk(path):\n",
    "        for f in filenames:\n",
    "            if f[-3:]==\"jpg\": # only get jpg images\n",
    "                # load image, convert to grayscale, flatten into vector\n",
    "                face = imread(dirpath+\"/\"+f).mean(axis=2).ravel()\n",
    "                faces.append(face)\n",
    "                break\n",
    "    # put all the face vectors column-wise into a matrix\n",
    "    return np.array(faces).T"
   ]
  },
  {
   "cell_type": "markdown",
   "metadata": {},
   "source": [
    "###Show an image\n",
    "You probably want to see what the faces look like. The following function will take a flattened image and display it."
   ]
  },
  {
   "cell_type": "code",
   "execution_count": 6,
   "metadata": {
    "collapsed": true
   },
   "outputs": [],
   "source": [
    "def show(im, w=200, h=180):\n",
    "    \"\"\"Plot the flattened grayscale image 'im' of width 'w' and height 'h'.\"\"\"\n",
    "    plt.imshow(im.reshape((w,h)), cmap=cm.Greys_r)\n",
    "    plt.show()"
   ]
  },
  {
   "cell_type": "markdown",
   "metadata": {},
   "source": [
    "For convenience, the following function **show2** will show two images side-by-side."
   ]
  },
  {
   "cell_type": "code",
   "execution_count": 7,
   "metadata": {
    "collapsed": true
   },
   "outputs": [],
   "source": [
    "def show2(test_image, result, w=200, h=180):\n",
    "    \"\"\"Convenience function for plotting two flattened grayscale images of\n",
    "    the specified width and height side by side\n",
    "    \"\"\"\n",
    "    plt.subplot(121)\n",
    "    plt.title(\"Inputed Image\")\n",
    "    plt.imshow(test_image.reshape((w,h)), cmap=cm.Greys_r)\n",
    "    plt.axis(\"off\")\n",
    "    plt.subplot(122)\n",
    "    plt.title(\"Closest Match\")\n",
    "    plt.imshow(result.reshape((w,h)), cmap=cm.Greys_r)\n",
    "    plt.axis(\"off\")\n",
    "    plt.show()"
   ]
  },
  {
   "cell_type": "markdown",
   "metadata": {},
   "source": [
    "###Performing a Mean Shift on the Faces\n",
    "To accentuate the unique features of each of the faces, we will perform a mean shift. First, we must calculate the mean face. We will store the faces using our **getFaces** function and then calculate the mean face $\\mu$. The mean face is plotted below.\n",
    "####Calculate the Mean Face"
   ]
  },
  {
   "cell_type": "code",
   "execution_count": 8,
   "metadata": {
    "collapsed": false
   },
   "outputs": [],
   "source": [
    "#Code for calculating the mean face here"
   ]
  },
  {
   "cell_type": "markdown",
   "metadata": {},
   "source": [
    "...\n",
    "...\n",
    "\n",
    "Using the cells above and below as examples, continue solving the Facial Recognition problem below, iPython-notebook style.\n",
    "\n",
    "...\n",
    "..."
   ]
  },
  {
   "cell_type": "markdown",
   "metadata": {},
   "source": [
    "###Wrapping Up\n",
    "When we've finished our code, we can verify that everything works by testing on random images. The following will pull 5 images at random from the dataset.\n",
    "\n",
    "####Create Sample Set of Faces"
   ]
  },
  {
   "cell_type": "code",
   "execution_count": 9,
   "metadata": {
    "collapsed": false
   },
   "outputs": [],
   "source": [
    "def sampleFaces(n_tests, path=\"./faces94\"):\n",
    "    \"\"\"Return an array containing a sample of n_tests images contained\n",
    "    in the path as flattened images in the columns of the output\n",
    "    \"\"\"\n",
    "    files = []\n",
    "    for (dirpath, dirnames, filenames) in walk(path):\n",
    "        for f in filenames:\n",
    "            if f[-3:]==\"jpg\": # only get jpg images\n",
    "                files.append(dirpath+\"/\"+f)\n",
    "\n",
    "    #Get a sample of the images\n",
    "    test_files = random.sample(files, n_tests)\n",
    "    #Flatten and average the pixel values\n",
    "    images = np.array([imread(f).mean(axis=2).ravel() for f in test_files]).T\n",
    "    return images\n",
    "\n",
    "test_images = sampleFaces(5)"
   ]
  },
  {
   "cell_type": "code",
   "execution_count": null,
   "metadata": {
    "collapsed": true
   },
   "outputs": [],
   "source": []
  },
  {
   "cell_type": "code",
   "execution_count": null,
   "metadata": {
    "collapsed": true
   },
   "outputs": [],
   "source": []
  }
 ],
 "metadata": {
  "kernelspec": {
   "display_name": "Python 2",
   "language": "python",
   "name": "python2"
  },
  "language_info": {
   "codemirror_mode": {
    "name": "ipython",
    "version": 2
   },
   "file_extension": ".py",
   "mimetype": "text/x-python",
   "name": "python",
   "nbconvert_exporter": "python",
   "pygments_lexer": "ipython2",
   "version": "2.7.10"
  }
 },
 "nbformat": 4,
 "nbformat_minor": 0
}
